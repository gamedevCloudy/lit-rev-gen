{
 "cells": [
  {
   "cell_type": "code",
   "execution_count": 13,
   "metadata": {},
   "outputs": [
    {
     "data": {
      "text/plain": [
       "True"
      ]
     },
     "execution_count": 13,
     "metadata": {},
     "output_type": "execute_result"
    }
   ],
   "source": [
    "import os \n",
    "from dotenv import load_dotenv\n",
    "load_dotenv()"
   ]
  },
  {
   "cell_type": "code",
   "execution_count": 36,
   "metadata": {},
   "outputs": [],
   "source": [
    "from IPython.display import Markdown"
   ]
  },
  {
   "cell_type": "code",
   "execution_count": 14,
   "metadata": {},
   "outputs": [],
   "source": [
    "GOOGLE_API_KEY=os.environ['GOOGLE_API_KEY']"
   ]
  },
  {
   "cell_type": "code",
   "execution_count": 5,
   "metadata": {},
   "outputs": [],
   "source": [
    "from langchain.document_loaders import PyPDFLoader, DirectoryLoader\n",
    "from langchain.text_splitter import RecursiveCharacterTextSplitter\n",
    "from langchain_google_genai import GoogleGenerativeAI, GoogleGenerativeAIEmbeddings\n",
    "from langchain_community.vectorstores import Chroma\n",
    "from langchain.chains import RetrievalQA"
   ]
  },
  {
   "cell_type": "markdown",
   "metadata": {},
   "source": [
    "### Load the Paper"
   ]
  },
  {
   "cell_type": "code",
   "execution_count": 6,
   "metadata": {},
   "outputs": [],
   "source": [
    "loader = DirectoryLoader(path='./paper', glob='**/*.pdf', loader_cls=PyPDFLoader)\n",
    "data = loader.load()"
   ]
  },
  {
   "cell_type": "code",
   "execution_count": 7,
   "metadata": {},
   "outputs": [
    {
     "data": {
      "text/plain": [
       "'KGAT: Knowledge Graph Attention Network for\\nRecommendation\\nXiang Wang\\nNational University of Singapore\\nxiangwang@u.nus.eduXiangnan He∗\\nUniversity of Science and Technology\\nof China\\nxiangnanhe@gmail.comYixin Cao\\nNational University of Singapore\\ncaoyixin2011@gmail.com\\nMeng Liu\\nShandong University\\nmengliu.sdu@gmail.comTat-Seng Chua\\nNational University of Singapore\\ndcscts@nus.edu.sg\\nABSTRACT\\nTo provide more accurate, diverse, and explainable recommendation,\\nit is compulsory to go beyond modeling user-item interactions\\nand take side information into account. Traditional methods like\\nfactorization machine (FM) cast it as a supervised learning problem,\\nwhich assumes each interaction as an independent instance with\\nside information encoded. Due to the overlook of the relations\\namong instances or items (e.g., the director of a movie is also an\\nactor of another movie), these methods are insufficient to distill the\\ncollaborative signal from the collective behaviors of users.\\nIn this work, we investigate the utility of knowledge graph\\n(KG), which breaks down the independent interaction assumption\\nby linking items with their attributes. We argue that in such a\\nhybrid structure of KG and user-item graph, high-order relations\\n— which connect two items with one or multiple linked attributes\\n— are an essential factor for successful recommendation. We\\npropose a new method named Knowledge Graph Attention Network\\n(KGAT) which explicitly models the high-order connectivities\\nin KG in an end-to-end fashion. It recursively propagates the\\nembeddings from a node’s neighbors (which can be users, items,\\nor attributes) to refine the node’s embedding, and employs\\nan attention mechanism to discriminate the importance of the\\nneighbors. Our KGAT is conceptually advantageous to existing\\nKG-based recommendation methods, which either exploit high-\\norder relations by extracting paths or implicitly modeling them\\nwith regularization. Empirical results on three public benchmarks\\nshow that KGAT significantly outperforms state-of-the-art methods\\nlike Neural FM [ 11] and RippleNet [ 29]. Further studies verify\\nthe efficacy of embedding propagation for high-order relation\\nmodeling and the interpretability benefits brought by the attention\\nmechanism. We release the codes and datasets at https://github.\\ncom/xiangwang1223/knowledge_graph_attention_network.\\n∗Xiangnan He is the corresponding author.\\nPermission to make digital or hard copies of all or part of this work for personal or\\nclassroom use is granted without fee provided that copies are not made or distributed\\nfor profit or commercial advantage and that copies bear this notice and the full citation\\non the first page. Copyrights for components of this work owned by others than ACM\\nmust be honored. Abstracting with credit is permitted. To copy otherwise, or republish,\\nto post on servers or to redistribute to lists, requires prior specific permission and/or a\\nfee. Request permissions from permissions@acm.org.\\nKDD ’19, August 4–8, 2019, Anchorage, AK, USA\\n©2019 Association for Computing Machinery.\\nACM ISBN 978-1-4503-6201-6/19/08. . .$15.00\\nhttps://doi.org/10.1145/3292500.3330989CCS CONCEPTS\\n•Information systems →Recommender systems.\\nKEYWORDS\\nCollaborative Filtering, Recommendation, Graph Neural Network,\\nHigher-order Connectivity, Embedding Propagation, Knowledge\\nGraph\\nACM Reference Format:\\nXiang Wang, Xiangnan He, Yixin Cao, Meng Liu, and Tat-Seng Chua. 2019.\\nKGAT: Knowledge Graph Attention Network for Recommendation. In The\\n25th ACM SIGKDD Conference on Knowledge Discovery and Data Mining\\n(KDD ’19), August 4–8, 2019, Anchorage, AK, USA. ACM, New York, NY, USA,\\n9 pages. https://doi.org/10.1145/3292500.3330989\\n1 INTRODUCTION\\nThe success of recommendation system makes it prevalent in Web\\napplications, ranging from search engines, E-commerce, to social\\nmedia sites and news portals — without exaggeration, almost\\nevery service that provides content to users is equipped with a\\nrecommendation system. To predict user preference from the key\\n(and widely available) source of user behavior data, much research\\neffort has been devoted to collaborative filtering (CF) [ 12,13,32].\\nDespite its effectiveness and universality, CF methods suffer from\\nthe inability of modeling side information [ 30,31], such as item\\nattributes, user profiles, and contexts, thus perform poorly in sparse\\nsituations where users and items have few interactions. To integrate\\nsuch information, a common paradigm is to transform them into\\na generic feature vector, together with user ID and item ID, and\\nfeed them into a supervised learning (SL) model to predict the\\nscore. Such a SL paradigm for recommendation has been widely\\ndeployed in industry [ 7,24,40], and some representative models\\ninclude factorization machine (FM) [ 23], NFM (neural FM) [ 11],\\nWide&Deep [7], and xDeepFM [18], etc.\\nAlthough these methods have provided strong performance, a\\ndeficiency is that they model each interaction as an independent\\ndata instance and do not consider their relations. This makes them\\ninsufficient to distill attribute-based collaborative signal from the\\ncollective behaviors of users. As shown in Figure 1, there is an\\ninteraction between user u1and movie i1, which is directed by the\\nperson e1. CF methods focus on the histories of similar users who\\nalso watched i1,i.e.,u4andu5; while SL methods emphasize the\\nsimilar items with the attribute e1,i.e.,i2. Obviously, these two types\\nof information not only are complementary for recommendation,\\nResearch Track Paper\\nKDD ’19, August 4–8, 2019, Anchorage, AK, USA\\n950\\n'"
      ]
     },
     "execution_count": 7,
     "metadata": {},
     "output_type": "execute_result"
    }
   ],
   "source": [
    "data[0].page_content"
   ]
  },
  {
   "cell_type": "code",
   "execution_count": 8,
   "metadata": {},
   "outputs": [],
   "source": [
    "text_splitter = RecursiveCharacterTextSplitter(chunk_size= 1000, chunk_overlap=200)\n",
    "texts = text_splitter.split_documents(data)"
   ]
  },
  {
   "cell_type": "code",
   "execution_count": 10,
   "metadata": {},
   "outputs": [
    {
     "data": {
      "text/plain": [
       "'KGAT: Knowledge Graph Attention Network for\\nRecommendation\\nXiang Wang\\nNational University of Singapore\\nxiangwang@u.nus.eduXiangnan He∗\\nUniversity of Science and Technology\\nof China\\nxiangnanhe@gmail.comYixin Cao\\nNational University of Singapore\\ncaoyixin2011@gmail.com\\nMeng Liu\\nShandong University\\nmengliu.sdu@gmail.comTat-Seng Chua\\nNational University of Singapore\\ndcscts@nus.edu.sg\\nABSTRACT\\nTo provide more accurate, diverse, and explainable recommendation,\\nit is compulsory to go beyond modeling user-item interactions\\nand take side information into account. Traditional methods like\\nfactorization machine (FM) cast it as a supervised learning problem,\\nwhich assumes each interaction as an independent instance with\\nside information encoded. Due to the overlook of the relations\\namong instances or items (e.g., the director of a movie is also an\\nactor of another movie), these methods are insufficient to distill the\\ncollaborative signal from the collective behaviors of users.'"
      ]
     },
     "execution_count": 10,
     "metadata": {},
     "output_type": "execute_result"
    }
   ],
   "source": [
    "texts[0].page_content"
   ]
  },
  {
   "cell_type": "code",
   "execution_count": 17,
   "metadata": {},
   "outputs": [
    {
     "name": "stderr",
     "output_type": "stream",
     "text": [
      "I0000 00:00:1722924685.988095   14584 check_gcp_environment_no_op.cc:29] ALTS: Platforms other than Linux and Windows are not supported\n"
     ]
    }
   ],
   "source": [
    "embeddings = GoogleGenerativeAIEmbeddings(model='models/embedding-001', google_api_key=GOOGLE_API_KEY)\n",
    "vector_store = Chroma.from_documents(documents=texts, embedding=embeddings)"
   ]
  },
  {
   "cell_type": "code",
   "execution_count": 23,
   "metadata": {},
   "outputs": [],
   "source": [
    "retriever = vector_store.as_retriever()"
   ]
  },
  {
   "cell_type": "code",
   "execution_count": 21,
   "metadata": {},
   "outputs": [],
   "source": [
    "llm = GoogleGenerativeAI(model=\"gemini-1.5-flash\", google_api_key=GOOGLE_API_KEY)"
   ]
  },
  {
   "cell_type": "code",
   "execution_count": 25,
   "metadata": {},
   "outputs": [],
   "source": [
    "qa_chain = RetrievalQA.from_chain_type(\n",
    "    llm=llm,\n",
    "    chain_type=\"stuff\", \n",
    "    retriever=retriever,\n",
    "    return_source_documents=True\n",
    ")"
   ]
  },
  {
   "cell_type": "code",
   "execution_count": 32,
   "metadata": {},
   "outputs": [],
   "source": [
    "query = (\"\"\"\n",
    "You are a [Research Assitant] bot. You help with creating [Literature Review]. \n",
    "\n",
    "Input :You will be given access to a [research paper]\n",
    "\n",
    "\n",
    "Task: You have to [extract] the following information:\n",
    "Information To BE extracted is present in backticks: \n",
    "\n",
    "Paper Name\n",
    "Focus Area of the paper\n",
    "Methodology: (eg Qualitative, Quantitative, Review, Conceptual, Report)\n",
    "Key Findings: in 10 words what the paper has implemented/achieved\n",
    "Application: real life potential use cases (summerize in 10 words or 1-2 points)\n",
    "Challenges:  Drawbacks of this paper/approach (summerize 1-2 short points)\n",
    "Opportunities: Future scope/possibilities of paper (summerize in 1-2 points)\n",
    "\n",
    "\n",
    "\n",
    "Output Format: \n",
    "\n",
    "json\n",
    "{\n",
    "\"paper_name\": \"name of the paper\",\n",
    ".\n",
    ".\n",
    ".\n",
    "\"opportunities\": \"...\"\n",
    "}\n",
    "\n",
    "\"\"\")"
   ]
  },
  {
   "cell_type": "code",
   "execution_count": 33,
   "metadata": {},
   "outputs": [],
   "source": [
    "result = qa_chain.invoke({'query': query})"
   ]
  },
  {
   "cell_type": "code",
   "execution_count": 34,
   "metadata": {},
   "outputs": [
    {
     "data": {
      "text/plain": [
       "'```json\\n{\\n\"paper_name\": \"KGAT: Knowledge Graph Attention Network for Recommendation\",\\n\"focus_area\": \"Recommender Systems, Knowledge Graph Embeddings, Attention Mechanisms\",\\n\"methodology\": \"Quantitative\",\\n\"key_findings\": \"Knowledge graph attention network for recommendation\",\\n\"application\": \"Personalized recommendations, Explainable AI\",\\n\"challenges\": \"Data sparsity, Scalability for large knowledge graphs\",\\n\"opportunities\": \"Extension to multi-modal data, Integration with other recommendation techniques\"\\n}\\n``` \\n'"
      ]
     },
     "execution_count": 34,
     "metadata": {},
     "output_type": "execute_result"
    }
   ],
   "source": [
    "result['result']"
   ]
  },
  {
   "cell_type": "code",
   "execution_count": 37,
   "metadata": {},
   "outputs": [
    {
     "data": {
      "text/markdown": [
       "```json\n",
       "{\n",
       "\"paper_name\": \"KGAT: Knowledge Graph Attention Network for Recommendation\",\n",
       "\"focus_area\": \"Recommender Systems, Knowledge Graph Embeddings, Attention Mechanisms\",\n",
       "\"methodology\": \"Quantitative\",\n",
       "\"key_findings\": \"Knowledge graph attention network for recommendation\",\n",
       "\"application\": \"Personalized recommendations, Explainable AI\",\n",
       "\"challenges\": \"Data sparsity, Scalability for large knowledge graphs\",\n",
       "\"opportunities\": \"Extension to multi-modal data, Integration with other recommendation techniques\"\n",
       "}\n",
       "``` \n"
      ],
      "text/plain": [
       "<IPython.core.display.Markdown object>"
      ]
     },
     "execution_count": 37,
     "metadata": {},
     "output_type": "execute_result"
    }
   ],
   "source": [
    "Markdown(result['result'])"
   ]
  },
  {
   "cell_type": "code",
   "execution_count": null,
   "metadata": {},
   "outputs": [],
   "source": []
  }
 ],
 "metadata": {
  "kernelspec": {
   "display_name": ".venv",
   "language": "python",
   "name": "python3"
  },
  "language_info": {
   "codemirror_mode": {
    "name": "ipython",
    "version": 3
   },
   "file_extension": ".py",
   "mimetype": "text/x-python",
   "name": "python",
   "nbconvert_exporter": "python",
   "pygments_lexer": "ipython3",
   "version": "3.10.14"
  }
 },
 "nbformat": 4,
 "nbformat_minor": 2
}
